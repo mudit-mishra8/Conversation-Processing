{
 "cells": [
  {
   "cell_type": "markdown",
   "metadata": {},
   "source": [
    "# CONVERSATIONAL SUMMARIZER"
   ]
  },
  {
   "cell_type": "markdown",
   "metadata": {},
   "source": [
    "## Importing libraries"
   ]
  },
  {
   "cell_type": "code",
   "execution_count": 38,
   "metadata": {},
   "outputs": [],
   "source": [
    "import pandas as pd"
   ]
  },
  {
   "cell_type": "markdown",
   "metadata": {},
   "source": [
    "## Enter the file name to summarize its Conversations"
   ]
  },
  {
   "cell_type": "code",
   "execution_count": 40,
   "metadata": {},
   "outputs": [
    {
     "name": "stdout",
     "output_type": "stream",
     "text": [
      "Enter the file name\n",
      "SBC001 Actual Blacksmithing.txt\n"
     ]
    }
   ],
   "source": [
    "print(\"Enter the file name\")\n",
    "f_name=input()\n",
    "file = open(f_name) \n",
    "# here we used file: 'SBC001 Actual Blacksmithing.txt'"
   ]
  },
  {
   "cell_type": "markdown",
   "metadata": {},
   "source": [
    "## Extracting Speakers Name"
   ]
  },
  {
   "cell_type": "code",
   "execution_count": 41,
   "metadata": {},
   "outputs": [],
   "source": [
    "# adding speakers to blank speakers list\n",
    "import re\n",
    "match_list=[]\n",
    "speaker_list=[]\n",
    "patterns= ['[A-Za-z]+']\n",
    "for y in file:\n",
    "    for p in patterns:\n",
    "        if \":\" in y: \n",
    "            q=y.split(\":\")\n",
    "            match_list=(re.findall(p, q[0]))\n",
    "            if len(match_list)==1:\n",
    "                speaker_list.append(match_list[0])"
   ]
  },
  {
   "cell_type": "code",
   "execution_count": 42,
   "metadata": {},
   "outputs": [],
   "source": [
    "#removing noise, cleaning \n",
    "for i in range(len(speaker_list)):\n",
    "    if \"ENV\" in speaker_list:\n",
    "        speaker_list.remove(\"ENV\")\n",
    "for i in range(len(speaker_list)):\n",
    "    if \"ALL\" in speaker_list:\n",
    "        speaker_list.remove(\"ALL\")\n",
    "for i in range(len(speaker_list)):\n",
    "    if \"X\" in speaker_list:\n",
    "        speaker_list.remove(\"X\")\n",
    "for i in range(len(speaker_list)):\n",
    "    if \"MANY\" in speaker_list:\n",
    "        speaker_list.remove(\"MANY\")\n",
    "for i in range(len(speaker_list)):\n",
    "    if \"DOG\" in speaker_list:\n",
    "        speaker_list.remove(\"DOG\")\n",
    "for i in range(len(speaker_list)):\n",
    "    if \"CAT\" in speaker_list:\n",
    "        speaker_list.remove(\"CAT\")\n",
    "for i in range(len(speaker_list)):\n",
    "    if \"AUD\" in speaker_list or \"AUD1\" in speaker_list or \"AUD2\" in speaker_list or \"AUD3\" in speaker_list or \"AUD4\" in speaker_list or \"AUD5\" in speaker_list or \"AUD6\" in speaker_list or \"AUD7\" in speaker_list or \"AUD8\" in speaker_list or \"AUD9\" in speaker_list:\n",
    "        speaker_list.remove(\"AUD\")\n"
   ]
  },
  {
   "cell_type": "code",
   "execution_count": 43,
   "metadata": {},
   "outputs": [],
   "source": [
    "set_speaker_list=set(speaker_list)\n",
    "\n",
    "list_lower=[]\n",
    "for a in set_speaker_list:\n",
    "    if a.isupper()==False:\n",
    "        list_lower.append(a)\n",
    "new_set_speaker_list=list(set_speaker_list)\n",
    "for i in list_lower:\n",
    "    for j in new_set_speaker_list:\n",
    "        if i.lower==j.lower:\n",
    "            new_set_speaker_list.remove(i)"
   ]
  },
  {
   "cell_type": "markdown",
   "metadata": {},
   "source": [
    "Till now we have extract all the speakers from a file and put them in a list : new_set_speaker_list"
   ]
  },
  {
   "cell_type": "markdown",
   "metadata": {},
   "source": [
    "### Creating a dictionary with speaker names as key"
   ]
  },
  {
   "cell_type": "code",
   "execution_count": 44,
   "metadata": {},
   "outputs": [],
   "source": [
    "total_value_pair= len(new_set_speaker_list)\n",
    "list_new=[]\n",
    "while total_value_pair!=0:\n",
    "    list_new.append([[],[],[],[],[],[],[]])\n",
    "    total_value_pair=total_value_pair-1\n",
    "speaker_dict=dict(zip(new_set_speaker_list,list_new))"
   ]
  },
  {
   "cell_type": "markdown",
   "metadata": {},
   "source": [
    "## FIND THE TIME SPOKEN(COUNT) \n"
   ]
  },
  {
   "cell_type": "code",
   "execution_count": 45,
   "metadata": {},
   "outputs": [],
   "source": [
    "# No of time speaker spoken\n",
    "for y in set_speaker_list:\n",
    "    count=0\n",
    "    file = open(f_name)\n",
    "    for x in file:\n",
    "        if(\":\" in x):\n",
    "            if y in x.split(\":\")[0]:\n",
    "                count=count+1\n",
    "    speaker_dict[y.upper()][0].append(count)\n",
    "    "
   ]
  },
  {
   "cell_type": "markdown",
   "metadata": {},
   "source": [
    "## FIND THE TIME SPEAKER SPOKEN IN SECOND"
   ]
  },
  {
   "cell_type": "code",
   "execution_count": 46,
   "metadata": {},
   "outputs": [],
   "source": [
    "file = open(f_name)\n",
    "\n",
    "for speaker in new_set_speaker_list:\n",
    "    file = open(f_name)\n",
    "    for x in file:\n",
    "        x_x=x.split(\":\")[0]\n",
    "        if (speaker in x_x or ((speaker.lower()).capitalize()) in x_x or speaker.lower() in x_x) and \":\" in x:\n",
    "            x_new=x.split(\":\")[0]\n",
    "            prev_speaker= speaker\n",
    "            temp = re.findall('\\d*\\.?\\d+', x_new)\n",
    "            \n",
    "            #print(temp)\n",
    "            \n",
    "            for element in temp:\n",
    "                speaker_dict[speaker][1].append(element)\n",
    "        \n",
    "        elif speaker not in x_x and \":\" in x :\n",
    "            x_new=x.split(\":\")[0]\n",
    "            prev_speaker=\"change\"\n",
    "        \n",
    "        elif speaker not in x_x and \":\" not in x and prev_speaker==speaker:\n",
    "            x_new=x.split(\"  \")[0]\n",
    "            temp = re.findall('\\d*\\.?\\d+', x_new)\n",
    "            for element in temp:\n",
    "                if len(element)!=1:\n",
    "                    speaker_dict[prev_speaker][1].append(element)\n",
    "                    prev_speaker==speaker\n",
    "             \n",
    "\n",
    "            \n",
    "\n",
    "# find the sum of seconds, that is for total time speaker spoken\n",
    "\n",
    "time_list=[]\n",
    "for x in new_set_speaker_list:\n",
    "    time_list=speaker_dict[x][1]\n",
    "    time_list_difference=[]\n",
    "    for i in range(len(time_list)-1):\n",
    "        if i%2==0:\n",
    "            p=i\n",
    "            q=p+1\n",
    "            time_list_difference.append(round(float(time_list[q])-float(time_list[p]),4))\n",
    "    sum_of_difference = sum(time_list_difference)\n",
    "    speaker_dict[x][2]=(round(sum_of_difference,4))\n"
   ]
  },
  {
   "cell_type": "markdown",
   "metadata": {},
   "source": [
    "## Number of words spoken by each speaker "
   ]
  },
  {
   "cell_type": "code",
   "execution_count": 47,
   "metadata": {},
   "outputs": [],
   "source": [
    "def listToString(s): \n",
    "    \n",
    "    # initialize an empty string\n",
    "    str1 = \"\" \n",
    "    \n",
    "    # return string  \n",
    "    return (str1.join(s))"
   ]
  },
  {
   "cell_type": "code",
   "execution_count": 48,
   "metadata": {},
   "outputs": [],
   "source": [
    "import string\n",
    "bad_chars = [\",\",\".\",\"-\"]\n",
    "file = open(f_name)\n",
    "\n",
    "for speaker in new_set_speaker_list:\n",
    "    file = open(f_name)\n",
    "    for x in file:\n",
    "        x_x=x.split(\":\")[0]\n",
    "        if (speaker in x_x or ((speaker.lower()).capitalize()) in x_x or speaker.lower() in x_x) and \":\" in x:\n",
    "            x_new=x.split(\":\")[-1]\n",
    "            str_new = listToString(x_new)\n",
    "            prev_speaker= speaker\n",
    "            #\n",
    "            #str_test = \"... Oh well,\"\n",
    "            #for i in bad_chars :\n",
    "             #   str_test_new = str_test.replace(i,\"\")\n",
    "            #print(str_test_new)\n",
    "            #print(re.sub('['+string.punctuation+']', '', str_test_new).split())\n",
    "            \n",
    "            #\n",
    "            for i in bad_chars :\n",
    "                str_new = str_new.replace(i, ' ')\n",
    "            res = re.sub('['+string.punctuation+']', '', str_new).split() # removing puncuation using regex and .split to obtain the list of words.\n",
    "            word_list=[]\n",
    "            for x in res:\n",
    "                if x.isalpha():\n",
    "                    word_list.append(x)\n",
    "            for element in word_list:\n",
    "                speaker_dict[speaker][3].append(element)\n",
    "                \n",
    "                    \n",
    "        elif speaker not in x_x and \":\" in x :\n",
    "            prev_speaker=\"change\"\n",
    "            \n",
    "        elif speaker not in x_x and \":\" not in x and prev_speaker==speaker:\n",
    "            x_new=x.split(\"  \")[-1]\n",
    "            str_new = listToString(x_new)\n",
    "            for i in bad_chars :\n",
    "                str_new = str_new.replace(i, ' ')\n",
    "            res = re.sub('['+string.punctuation+']', '', str_new).split()\n",
    "            word_list=[]\n",
    "            for x in res:\n",
    "                if x.isalpha():\n",
    "                    word_list.append(x)\n",
    "            for element in word_list:\n",
    "                speaker_dict[speaker][3].append(element)\n",
    "        "
   ]
  },
  {
   "cell_type": "code",
   "execution_count": 49,
   "metadata": {},
   "outputs": [],
   "source": [
    "# find the count of words spoken by each speaker\n",
    "for x in new_set_speaker_list:\n",
    "    word_list=speaker_dict[x][3]\n",
    "    speaker_dict[x][4]=len(word_list)\n",
    "    \n"
   ]
  },
  {
   "cell_type": "markdown",
   "metadata": {},
   "source": [
    "## Lets display our findings"
   ]
  },
  {
   "cell_type": "markdown",
   "metadata": {},
   "source": [
    "## 1- Name of Participants"
   ]
  },
  {
   "cell_type": "code",
   "execution_count": 50,
   "metadata": {},
   "outputs": [
    {
     "name": "stdout",
     "output_type": "stream",
     "text": [
      "DORIS\n",
      "LYNNE\n",
      "LENORE\n"
     ]
    }
   ],
   "source": [
    "name_of_speaker=[]\n",
    "for x in speaker_dict:\n",
    "    print(x)\n",
    "    name_of_speaker.append(x)"
   ]
  },
  {
   "cell_type": "markdown",
   "metadata": {},
   "source": [
    "## 2- Time Spoken(count)"
   ]
  },
  {
   "cell_type": "code",
   "execution_count": 51,
   "metadata": {},
   "outputs": [
    {
     "name": "stdout",
     "output_type": "stream",
     "text": [
      "DORIS  spoke  51 times\n",
      "LYNNE  spoke  107 times\n",
      "LENORE  spoke  62 times\n"
     ]
    }
   ],
   "source": [
    "Number_of_times_speakerspoken= []\n",
    "for x in new_set_speaker_list:\n",
    "    print(x, \" spoke \",sum(speaker_dict[x][0]),\"times\")\n",
    "    Number_of_times_speakerspoken.append(sum(speaker_dict[x][0]))\n",
    "    "
   ]
  },
  {
   "cell_type": "markdown",
   "metadata": {},
   "source": [
    "## 3- Seconds Spoken"
   ]
  },
  {
   "cell_type": "code",
   "execution_count": 52,
   "metadata": {},
   "outputs": [
    {
     "name": "stdout",
     "output_type": "stream",
     "text": [
      "DORIS  spoke for  191.33 seconds\n",
      "LYNNE  spoke for  1248.6 seconds\n",
      "LENORE  spoke for  116.37 seconds\n"
     ]
    }
   ],
   "source": [
    "seconds_spoken=[]\n",
    "for x in new_set_speaker_list:\n",
    "    print(x, \" spoke for \",speaker_dict[x][2],\"seconds\")\n",
    "    seconds_spoken.append(speaker_dict[x][2])\n",
    "    "
   ]
  },
  {
   "cell_type": "markdown",
   "metadata": {},
   "source": [
    "## 4-Number of Words Spoken"
   ]
  },
  {
   "cell_type": "code",
   "execution_count": 53,
   "metadata": {},
   "outputs": [
    {
     "name": "stdout",
     "output_type": "stream",
     "text": [
      "DORIS  spoke  646 words\n",
      "LYNNE  spoke  4391 words\n",
      "LENORE  spoke  360 words\n"
     ]
    }
   ],
   "source": [
    "total_words_spoken=[]\n",
    "for x in new_set_speaker_list:\n",
    "    print(x, \" spoke \",speaker_dict[x][4],\"words\")\n",
    "    total_words_spoken.append(speaker_dict[x][4])\n",
    "    "
   ]
  },
  {
   "cell_type": "markdown",
   "metadata": {},
   "source": [
    "## 5-Words per minute spoken by speaker"
   ]
  },
  {
   "cell_type": "code",
   "execution_count": 54,
   "metadata": {},
   "outputs": [
    {
     "name": "stdout",
     "output_type": "stream",
     "text": [
      "DORIS  spoke  202.58  words in 1 min\n",
      "LYNNE  spoke  211.0  words in 1 min\n",
      "LENORE  spoke  185.61  words in 1 min\n"
     ]
    }
   ],
   "source": [
    "for x in new_set_speaker_list:\n",
    "    total_words=speaker_dict[x][4]\n",
    "    time_taken= speaker_dict[x][2]\n",
    "    words_in_one_min= round((total_words/time_taken)*60,2)\n",
    "    speaker_dict[x][5]=words_in_one_min\n",
    "    \n",
    "words_per_minute=[]\n",
    "for x in new_set_speaker_list:\n",
    "    print(x, \" spoke \",speaker_dict[x][5],\" words in 1 min\")\n",
    "    words_per_minute.append(speaker_dict[x][5])"
   ]
  },
  {
   "cell_type": "markdown",
   "metadata": {},
   "source": [
    "## 6-Average number of words per conversation snippet "
   ]
  },
  {
   "cell_type": "code",
   "execution_count": 55,
   "metadata": {},
   "outputs": [],
   "source": [
    "for x in new_set_speaker_list:\n",
    "    total_words=speaker_dict[x][4]\n",
    "    time_spoken= sum(speaker_dict[x][0])\n",
    "    avg_words_spoken= round((total_words/time_spoken),2)\n",
    "    speaker_dict[x][6]=avg_words_spoken"
   ]
  },
  {
   "cell_type": "code",
   "execution_count": 56,
   "metadata": {},
   "outputs": [
    {
     "name": "stdout",
     "output_type": "stream",
     "text": [
      "DORIS  spoke  12.67  words per converstion snippet\n",
      "LYNNE  spoke  41.04  words per converstion snippet\n",
      "LENORE  spoke  5.81  words per converstion snippet\n"
     ]
    }
   ],
   "source": [
    "avg_words=[]\n",
    "for x in new_set_speaker_list:\n",
    "    print(x, \" spoke \",speaker_dict[x][6],\" words per converstion snippet\")\n",
    "    avg_words.append(speaker_dict[x][6])\n",
    "    "
   ]
  },
  {
   "cell_type": "markdown",
   "metadata": {},
   "source": [
    "## Creating  dataframe to Summarize our findings"
   ]
  },
  {
   "cell_type": "code",
   "execution_count": 57,
   "metadata": {},
   "outputs": [
    {
     "data": {
      "text/html": [
       "<div>\n",
       "<style scoped>\n",
       "    .dataframe tbody tr th:only-of-type {\n",
       "        vertical-align: middle;\n",
       "    }\n",
       "\n",
       "    .dataframe tbody tr th {\n",
       "        vertical-align: top;\n",
       "    }\n",
       "\n",
       "    .dataframe thead th {\n",
       "        text-align: right;\n",
       "    }\n",
       "</style>\n",
       "<table border=\"1\" class=\"dataframe\">\n",
       "  <thead>\n",
       "    <tr style=\"text-align: right;\">\n",
       "      <th></th>\n",
       "      <th>SPEAKER NAME</th>\n",
       "      <th>NUMBER OF TIMES A SPEAKER SPOKEN</th>\n",
       "      <th>SECONDS SPOKEN</th>\n",
       "      <th>TOTAL WORDS SPOKEN</th>\n",
       "      <th>WORDS PER MINUTE SPOKEN</th>\n",
       "      <th>AVERAGE WORDS SPOKEN</th>\n",
       "    </tr>\n",
       "  </thead>\n",
       "  <tbody>\n",
       "    <tr>\n",
       "      <th>0</th>\n",
       "      <td>DORIS</td>\n",
       "      <td>51</td>\n",
       "      <td>191.33</td>\n",
       "      <td>646</td>\n",
       "      <td>202.58</td>\n",
       "      <td>12.67</td>\n",
       "    </tr>\n",
       "    <tr>\n",
       "      <th>1</th>\n",
       "      <td>LYNNE</td>\n",
       "      <td>107</td>\n",
       "      <td>1248.60</td>\n",
       "      <td>4391</td>\n",
       "      <td>211.00</td>\n",
       "      <td>41.04</td>\n",
       "    </tr>\n",
       "    <tr>\n",
       "      <th>2</th>\n",
       "      <td>LENORE</td>\n",
       "      <td>62</td>\n",
       "      <td>116.37</td>\n",
       "      <td>360</td>\n",
       "      <td>185.61</td>\n",
       "      <td>5.81</td>\n",
       "    </tr>\n",
       "  </tbody>\n",
       "</table>\n",
       "</div>"
      ],
      "text/plain": [
       "  SPEAKER NAME  NUMBER OF TIMES A SPEAKER SPOKEN  SECONDS SPOKEN  \\\n",
       "0        DORIS                                51          191.33   \n",
       "1        LYNNE                               107         1248.60   \n",
       "2       LENORE                                62          116.37   \n",
       "\n",
       "   TOTAL WORDS SPOKEN  WORDS PER MINUTE SPOKEN  AVERAGE WORDS SPOKEN  \n",
       "0                 646                   202.58                 12.67  \n",
       "1                4391                   211.00                 41.04  \n",
       "2                 360                   185.61                  5.81  "
      ]
     },
     "execution_count": 57,
     "metadata": {},
     "output_type": "execute_result"
    }
   ],
   "source": [
    "# Create a DataFrame\n",
    "data = {\n",
    "    'SPEAKER NAME': name_of_speaker,\n",
    "    'NUMBER OF TIMES A SPEAKER SPOKEN': Number_of_times_speakerspoken,\n",
    "    'SECONDS SPOKEN': seconds_spoken,\n",
    "    'TOTAL WORDS SPOKEN': total_words_spoken,\n",
    "    'WORDS PER MINUTE SPOKEN': words_per_minute,\n",
    "    'AVERAGE WORDS SPOKEN': avg_words\n",
    "}\n",
    "\n",
    "df = pd.DataFrame(data)\n",
    "\n",
    "# Display the DataFrame\n",
    "df"
   ]
  },
  {
   "cell_type": "code",
   "execution_count": null,
   "metadata": {},
   "outputs": [],
   "source": []
  }
 ],
 "metadata": {
  "kernelspec": {
   "display_name": "Python 3",
   "language": "python",
   "name": "python3"
  },
  "language_info": {
   "codemirror_mode": {
    "name": "ipython",
    "version": 3
   },
   "file_extension": ".py",
   "mimetype": "text/x-python",
   "name": "python",
   "nbconvert_exporter": "python",
   "pygments_lexer": "ipython3",
   "version": "3.8.5"
  }
 },
 "nbformat": 4,
 "nbformat_minor": 4
}
